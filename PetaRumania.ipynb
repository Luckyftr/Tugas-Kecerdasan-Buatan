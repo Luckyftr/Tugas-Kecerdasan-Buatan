{
 "cells": [
  {
   "cell_type": "code",
   "execution_count": null,
   "metadata": {},
   "outputs": [],
   "source": [
    "from collection import dequeue"
   ]
  },
  {
   "cell_type": "code",
   "execution_count": null,
   "metadata": {},
   "outputs": [],
   "source": [
    "# Graph berdasarkan peta Rumania\n",
    "graph = {\n",
    "    \"Arad\": [\"Zerind\", \"Timisoara\", \"Sibiu\"],\n",
    "    \"Zerind\": [\"Arad\", \"Oradea\"],\n",
    "    \"Oradea\": [\"Zerind\", \"Sibiu\"],\n",
    "    \"Sibiu\": [\"Arad\", \"Oradea\", \"Fagaras\", \"Rimniciu Vilcea\"],\n",
    "    \"Fagaras\": [\"Sibiu\", \"Bucharest\"],\n",
    "    \"Bucharest\": [\"Fagaras\", \"Pitesti\", \"Urziceni\", \"Giurgiu\"],\n",
    "    \"Timisoara\": [\"Arad\", \"Lugoj\"],\n",
    "    \"Lugoj\": [\"Timisoara\", \"Mehadia\"],\n",
    "    \"Mehadia\": [\"Lugoj\", \"Dobreta\"],\n",
    "    \"Dobreta\": [\"Mehadia\", \"Craiova\"],\n",
    "    \"Craiova\": [\"Dobreta\", \"Pitesti\"],\n",
    "    \"Rimniciu Vilcea\": [\"Sibiu\", \"Pitesti\"],\n",
    "    \"Pitesti\": [\"Rimniciu Vilcea\", \"Craiova\", \"Bucharest\"],\n",
    "    \"Urziceni\": [\"Bucharest\", \"Valsui\", \"Hisovara\"],\n",
    "    \"Valsui\": [\"Urziceni\", \"Iasi\"],\n",
    "    \"Iasi\": [\"Valsui\", \"Neamt\"],\n",
    "    \"Neamt\": [\"Iasi\"],\n",
    "    \"Hisrsova\": [\"Urziceni\", \"Eforie\"],\n",
    "    \"Eforie\": [\"Hirsova\"],\n",
    "    \"Giurgiu\": [\"Bucharest\"]\n",
    "}"
   ]
  },
  {
   "cell_type": "code",
   "execution_count": null,
   "metadata": {},
   "outputs": [],
   "source": [
    "#Implementasi DSF\n",
    "def dfs(start, goal):\n",
    "    if start not in graph or goal not in graph:\n",
    "        print(\"Kota tidak ditemukan dalam peta.\")\n",
    "        return\n",
    "\n",
    "    queue = dequeue([[start]]) #Queue untuk menyimpan jalur\n",
    "    visited = set() #Set untuk menyimpan kota yang sudah dikunjungi\n",
    "\n",
    "    while queue:\n",
    "        path = queue.popleft() #Ambil jalur pertama dari queue\n",
    "        city = path[-1] #Kota terakhir dalam jalur\n",
    "\n",
    "        if city == goal:\n",
    "            print(\"Rute dari {} ke {}:\".format(start, goal))\n",
    "            print(\" -> \".join(path))\n",
    "            return\n",
    "        \n",
    "        if city not in visited:\n",
    "            visited.add(city) #Tandai kota sebagai dikunjungi\n",
    "\n",
    "            for neighbor in graph [city]:\n",
    "                new_path = list(path) #Salin jalur saat ini\n",
    "                new_path.append(neighbor) #Tambahkan tetangga ke jalur baru\n",
    "                queue.append(new_path) #Masukkan jalur baru ke queue\n",
    "\n",
    "    print(\"Tidak ada jalur dari {} ke {}.\".format(start, goal))"
   ]
  },
  {
   "cell_type": "code",
   "execution_count": null,
   "metadata": {},
   "outputs": [],
   "source": [
    "#Input kota asal dan tujuan\n",
    "start = Input(\"Masukkan kota asal: \").strip()\n",
    "goal = input(\"Masukkan kota tujuan: \").strip()\n",
    "\n",
    "#Jalankan DFS\n",
    "dfs(start, goal)"
   ]
  }
 ],
 "metadata": {
  "language_info": {
   "name": "python"
  }
 },
 "nbformat": 4,
 "nbformat_minor": 2
}
